{
 "cells": [
  {
   "cell_type": "markdown",
   "id": "0a3b7a6b",
   "metadata": {},
   "source": [
    "Question 1 Create a function that takes a list of non-negative integers and strings and return a new list\n",
    "without the strings.\n",
    "\n",
    "Examples\n",
    "\n",
    "filter_list([1, 2, &quot;a&quot;, &quot;b&quot;]) ➞ [1, 2]\n",
    "\n",
    "filter_list([1, &quot;a&quot;, &quot;b&quot;, 0, 15]) ➞ [1, 0, 15]\n",
    "\n",
    "filter_list([1, 2, &quot;aasf&quot;, &quot;1&quot;, &quot;123&quot;, 123]) ➞ [1, 2, 123]"
   ]
  },
  {
   "cell_type": "code",
   "execution_count": 3,
   "id": "41253dd4",
   "metadata": {},
   "outputs": [],
   "source": [
    "def filter_list(l):\n",
    "    new_list=list()\n",
    "    for i in l:\n",
    "        if type(i) != str:\n",
    "            new_list.append(i)\n",
    "    return new_list\n",
    "    "
   ]
  },
  {
   "cell_type": "code",
   "execution_count": 5,
   "id": "1d2b07da",
   "metadata": {},
   "outputs": [
    {
     "data": {
      "text/plain": [
       "[1, 0, 15]"
      ]
     },
     "execution_count": 5,
     "metadata": {},
     "output_type": "execute_result"
    }
   ],
   "source": [
    "filter_list([1, \"a\", \"b\", 0, 15])"
   ]
  },
  {
   "cell_type": "markdown",
   "id": "f61ab149",
   "metadata": {},
   "source": [
    "Question 2 The &quot;Reverser&quot; takes a string as input and returns that string in reverse order, with the opposite case.\n",
    "\n",
    "Examples\n",
    "\n",
    "reverse(&quot;Hello World&quot;) ➞ &quot;DLROw OLLEh&quot;\n",
    "\n",
    "reverse(&quot;ReVeRsE&quot;) ➞ &quot;eSrEvEr&quot;\n",
    "\n",
    "reverse(&quot;Radar&quot;) ➞ &quot;RADAr&quot;"
   ]
  },
  {
   "cell_type": "code",
   "execution_count": 28,
   "id": "3561aad0",
   "metadata": {},
   "outputs": [],
   "source": [
    "def reverse(s):\n",
    "\n",
    "    s=s[::-1]\n",
    "    new=list()\n",
    "    for i in s:\n",
    "        if i.islower():\n",
    "            new.append(i.upper())\n",
    "        \n",
    "        else:\n",
    "            new.append(i.lower())\n",
    "\n",
    "    return \"\".join(new)"
   ]
  },
  {
   "cell_type": "code",
   "execution_count": 29,
   "id": "cd0d6f1f",
   "metadata": {},
   "outputs": [
    {
     "data": {
      "text/plain": [
       "'DLROw OLLEh'"
      ]
     },
     "execution_count": 29,
     "metadata": {},
     "output_type": "execute_result"
    }
   ],
   "source": [
    "reverse(\"Hello World\")"
   ]
  },
  {
   "cell_type": "code",
   "execution_count": 20,
   "id": "63f0420b",
   "metadata": {},
   "outputs": [
    {
     "name": "stdout",
     "output_type": "stream",
     "text": [
      "gEeKsFoRgEeKs\n"
     ]
    }
   ],
   "source": [
    "str = \"GeEkSfOrGeEkS\"\n",
    "x=\"\"\n",
    "for i in str:\n",
    "    if(i.isupper()):\n",
    "        x+=i.lower()\n",
    "    else:\n",
    "        x+=i.upper()\n",
    "print(x)"
   ]
  },
  {
   "cell_type": "code",
   "execution_count": null,
   "id": "d7a9229d",
   "metadata": {},
   "outputs": [],
   "source": []
  },
  {
   "cell_type": "markdown",
   "id": "09d4aff9",
   "metadata": {},
   "source": [
    "Question 3 You can assign variables from lists like this: \n",
    "\n",
    "lst = [1, 2, 3, 4, 5, 6]\n",
    "\n",
    "first = lst[0]\n",
    "\n",
    "middle = lst[1:-1]\n",
    "\n",
    "last = lst[-1]\n",
    "\n",
    "print(first) ➞ outputs 1\n",
    "\n",
    "print(middle) ➞ outputs [2, 3, 4, 5]\n",
    "\n",
    "print(last) ➞ outputs 6\n",
    "\n",
    "With Python 3, you can assign variables from lists in a much more succinct way. Create\n",
    "variables first, middle and last from the given list using destructuring assignment\n",
    "(check the Resources tab for some examples), where:\n",
    "\n",
    "first ➞ 1\n",
    "\n",
    "middle ➞ [2, 3, 4, 5]\n",
    "\n",
    "last ➞ 6\n",
    "\n",
    "Your task is to unpack the list writeyourcodehere into three variables, being first,\n",
    "middle, and last, with middle being everything in between the first and last element. Then\n",
    "print all three variables."
   ]
  },
  {
   "cell_type": "code",
   "execution_count": 32,
   "id": "d3d8bf9c",
   "metadata": {},
   "outputs": [
    {
     "name": "stdout",
     "output_type": "stream",
     "text": [
      "first element:1\n",
      "middle elements:[2, 3, 4, 5]\n",
      "last element:6\n"
     ]
    }
   ],
   "source": [
    "l=[1, 2, 3, 4, 5, 6]\n",
    "first=l[0]\n",
    "middle=l[1:-1]\n",
    "last=l[-1]\n",
    "print(f\"first element:{first}\")\n",
    "print(f\"middle elements:{middle}\")\n",
    "print(f\"last element:{last}\")"
   ]
  },
  {
   "cell_type": "markdown",
   "id": "1ef9bc27",
   "metadata": {},
   "source": [
    "Question 4 Write a function that calculates the factorial of a number recursively.\n",
    "\n",
    "Examples\n",
    "\n",
    "factorial(5) ➞ 120\n",
    "\n",
    "factorial(3) ➞ 6\n",
    "\n",
    "factorial(1) ➞ 1\n",
    "\n",
    "factorial(0) ➞ 1"
   ]
  },
  {
   "cell_type": "code",
   "execution_count": 30,
   "id": "b56e2ebe",
   "metadata": {},
   "outputs": [
    {
     "data": {
      "text/plain": [
       "120"
      ]
     },
     "execution_count": 30,
     "metadata": {},
     "output_type": "execute_result"
    }
   ],
   "source": [
    "def fact(n):\n",
    "    if n==0:\n",
    "        return 1\n",
    "    else:\n",
    "        return n*fact(n-1)\n",
    "fact(5)"
   ]
  },
  {
   "cell_type": "markdown",
   "id": "36187bb9",
   "metadata": {},
   "source": [
    "Question 5 Write a function that moves all elements of one type to the end of the list. \n",
    "\n",
    "Examples\n",
    "\n",
    "move_to_end([1, 3, 2, 4, 4, 1], 1) ➞ [3, 2, 4, 4, 1, 1]\n",
    "\n",
    "#Move all the 1s to the end of the array.\n",
    "\n",
    "move_to_end([7, 8, 9, 1, 2, 3, 4], 9) ➞ [7, 8, 1, 2, 3, 4, 9]\n",
    "\n",
    "move_to_end([&quot;a&quot;, &quot;a&quot;, &quot;a&quot;, &quot;b&quot;], &quot;a&quot;) ➞ [&quot;b&quot;, &quot;a&quot;, &quot;a&quot;, &quot;a&quot;]"
   ]
  },
  {
   "cell_type": "code",
   "execution_count": 34,
   "id": "35f152ec",
   "metadata": {},
   "outputs": [
    {
     "name": "stdout",
     "output_type": "stream",
     "text": [
      "[3, 2, 4, 4, 1, 1]\n",
      "[7, 8, 1, 2, 3, 4, 9]\n",
      "['b', 'a', 'a', 'a']\n"
     ]
    }
   ],
   "source": [
    "def move_to_end(lst,el):\n",
    "    x=lst.pop(lst.index(el))\n",
    "    lst.append(x)\n",
    "    for i in lst:\n",
    "        if x in lst:\n",
    "            lst.append(lst.pop(lst.index(el)))\n",
    "            \n",
    "    \n",
    "    return lst\n",
    "\n",
    "print(move_to_end([1, 3, 2, 4, 4, 1], 1))\n",
    "print(move_to_end([7, 8, 9, 1, 2, 3, 4], 9))\n",
    "print(move_to_end([\"a\",\"a\",\"a\",\"b\"], \"a\"))"
   ]
  },
  {
   "cell_type": "code",
   "execution_count": null,
   "id": "d6b385ed",
   "metadata": {},
   "outputs": [],
   "source": []
  }
 ],
 "metadata": {
  "kernelspec": {
   "display_name": "Python 3 (ipykernel)",
   "language": "python",
   "name": "python3"
  },
  "language_info": {
   "codemirror_mode": {
    "name": "ipython",
    "version": 3
   },
   "file_extension": ".py",
   "mimetype": "text/x-python",
   "name": "python",
   "nbconvert_exporter": "python",
   "pygments_lexer": "ipython3",
   "version": "3.9.7"
  }
 },
 "nbformat": 4,
 "nbformat_minor": 5
}
